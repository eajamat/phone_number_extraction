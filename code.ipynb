import re
def get_phonenumbers(input_tel_text= ''):
  '''
  param input_tel_text: the text contains phonenumber information
  return: phonenumber list
  '''
  
  sample_str_2 = re.split('/',input_tel_text)
  sample_list_2 = []
  for i in sample_str_2:
    for j in i:
      if j.isdigit() or j=='+' or j=='-':
        sample_list_2.append(j)
        continue
      else:
        i=i.replace(j,'')
  sample_str_3 = ''
  sample_list_3 = []
  count = 0
  for k in sample_list_2:
    if count!=14:
      sample_str_3 = sample_str_3 + k
      count = count + 1
     else:
          sample_str_3 = sample_str_3 + k
          sample_list_3.append(sample_str_3)
          count = 0
          sample_str_3 = ''
   return sample_list_3
   pass
          
